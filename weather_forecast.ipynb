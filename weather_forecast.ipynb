{
  "nbformat": 4,
  "nbformat_minor": 0,
  "metadata": {
    "colab": {
      "provenance": [],
      "authorship_tag": "ABX9TyOMeCkKzfodMqJmnmK7/OSE",
      "include_colab_link": true
    },
    "kernelspec": {
      "name": "python3",
      "display_name": "Python 3"
    },
    "language_info": {
      "name": "python"
    }
  },
  "cells": [
    {
      "cell_type": "markdown",
      "metadata": {
        "id": "view-in-github",
        "colab_type": "text"
      },
      "source": [
        "<a href=\"https://colab.research.google.com/github/sushi404/GoogleColab/blob/main/weather_forecast.ipynb\" target=\"_parent\"><img src=\"https://colab.research.google.com/assets/colab-badge.svg\" alt=\"Open In Colab\"/></a>"
      ]
    },
    {
      "cell_type": "code",
      "execution_count": null,
      "metadata": {
        "colab": {
          "base_uri": "https://localhost:8080/"
        },
        "id": "ejw43ESrHPmS",
        "outputId": "262b2bbf-0d56-49e6-d9fb-d2863b894eca"
      },
      "outputs": [
        {
          "output_type": "stream",
          "name": "stdout",
          "text": [
            "　三陸沖を東北東へ進む低気圧から、前線が伊豆諸島付近を通って東シナ海にのびています。本州付近は、高気圧に緩やかに覆われています。\n",
            "\n",
            "　神奈川県は、曇りや晴れで、雨の降っている所があります。\n",
            "\n",
            "　２０日は、高気圧に緩やかに覆われますが、湿った空気や上空の寒気の影響を受ける見込みです。このため、曇りで雨や雷雨となる所があり、西部では昼過ぎから夜のはじめ頃にかけて激しく降る所があるでしょう。\n",
            "\n",
            "　２１日は、高気圧に緩やかに覆われますが、湿った空気や上空の寒気の影響を受けるため、曇りとなる見込みです。\n",
            "\n",
            "　神奈川県の海上では、２０日から２１日にかけて、多少波があるでしょう。\n"
          ]
        }
      ],
      "source": [
        "import requests\n",
        "\n",
        "url = \"https://www.jma.go.jp/bosai/forecast/data/overview_forecast/140000.json\"\n",
        "\n",
        "try:\n",
        "    response = requests.get(url)\n",
        "\n",
        "    if response.status_code == 200:\n",
        "        weather_data = response.json()\n",
        "        weather = weather_data['text']\n",
        "        # 取得したJSONデータを使って必要な処理を行う\n",
        "        print(weather)\n",
        "    else:\n",
        "        print(\"リクエストが失敗しました。ステータスコード:\", response.status_code)\n",
        "\n",
        "except requests.exceptions.RequestException as e:\n",
        "    print(\"エラーが発生しました:\", e)\n"
      ]
    },
    {
      "cell_type": "code",
      "source": [
        "import requests\n",
        "\n",
        "url = \"https://www.jma.go.jp/bosai/forecast/data/overview_forecast/140000.json\"\n",
        "\n",
        "try:\n",
        "    response = requests.get(url)\n",
        "\n",
        "    if response.status_code == 200:\n",
        "        weather_data = response.json()\n",
        "        weather = weather_data['text']\n",
        "        # 取得したJSONデータを使って必要な処理を行う\n",
        "        print(weather)\n",
        "\n",
        "    else:\n",
        "        print(\"リクエストが失敗しました。ステータスコード:\", response.status_code)\n",
        "\n",
        "except requests.exceptions.RequestException as e:\n",
        "    print(\"エラーが発生しました:\", e)\n",
        "\n"
      ],
      "metadata": {
        "colab": {
          "base_uri": "https://localhost:8080/"
        },
        "id": "9Sq0lUFWQmSs",
        "outputId": "df0c6a9b-fe76-4de2-ad84-e6faa12bff9e"
      },
      "execution_count": null,
      "outputs": [
        {
          "output_type": "stream",
          "name": "stdout",
          "text": [
            "　三陸沖を東北東へ進む低気圧から、前線が伊豆諸島付近を通って東シナ海にのびています。本州付近は、高気圧に緩やかに覆われています。\n",
            "\n",
            "　神奈川県は、曇りや晴れで、雨の降っている所があります。\n",
            "\n",
            "　２０日は、高気圧に緩やかに覆われますが、湿った空気や上空の寒気の影響を受ける見込みです。このため、曇りで雨や雷雨となる所があり、夜のはじめ頃にかけて激しく降る所があるでしょう。\n",
            "\n",
            "　２１日は、高気圧に緩やかに覆われますが、湿った空気や上空の寒気の影響を受けるため、曇りとなる見込みです。\n",
            "\n",
            "　神奈川県の海上では、２０日から２１日にかけて、多少波があるでしょう。\n"
          ]
        }
      ]
    }
  ]
}