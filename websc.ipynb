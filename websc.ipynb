{
  "nbformat": 4,
  "nbformat_minor": 0,
  "metadata": {
    "colab": {
      "provenance": [],
      "authorship_tag": "ABX9TyN3Q7OCDrlDN01YUE9J+rnS",
      "include_colab_link": true
    },
    "kernelspec": {
      "name": "python3",
      "display_name": "Python 3"
    },
    "language_info": {
      "name": "python"
    }
  },
  "cells": [
    {
      "cell_type": "markdown",
      "metadata": {
        "id": "view-in-github",
        "colab_type": "text"
      },
      "source": [
        "<a href=\"https://colab.research.google.com/github/sushi404/GoogleColab/blob/main/websc.ipynb\" target=\"_parent\"><img src=\"https://colab.research.google.com/assets/colab-badge.svg\" alt=\"Open In Colab\"/></a>"
      ]
    },
    {
      "cell_type": "code",
      "source": [
        "!pip3 install requests\n",
        "!pip3 install beautifulsoup4"
      ],
      "metadata": {
        "colab": {
          "base_uri": "https://localhost:8080/"
        },
        "id": "URcvDz3IFq8m",
        "outputId": "645441d5-910a-4f78-d333-fd30363b4eb4"
      },
      "execution_count": 3,
      "outputs": [
        {
          "output_type": "stream",
          "name": "stdout",
          "text": [
            "Requirement already satisfied: requests in /usr/local/lib/python3.10/dist-packages (2.31.0)\n",
            "Requirement already satisfied: charset-normalizer<4,>=2 in /usr/local/lib/python3.10/dist-packages (from requests) (3.3.2)\n",
            "Requirement already satisfied: idna<4,>=2.5 in /usr/local/lib/python3.10/dist-packages (from requests) (3.6)\n",
            "Requirement already satisfied: urllib3<3,>=1.21.1 in /usr/local/lib/python3.10/dist-packages (from requests) (2.0.7)\n",
            "Requirement already satisfied: certifi>=2017.4.17 in /usr/local/lib/python3.10/dist-packages (from requests) (2023.11.17)\n",
            "Requirement already satisfied: beautifulsoup4 in /usr/local/lib/python3.10/dist-packages (4.11.2)\n",
            "Requirement already satisfied: soupsieve>1.2 in /usr/local/lib/python3.10/dist-packages (from beautifulsoup4) (2.5)\n"
          ]
        }
      ]
    },
    {
      "cell_type": "code",
      "execution_count": 13,
      "metadata": {
        "colab": {
          "base_uri": "https://localhost:8080/"
        },
        "id": "ym8OwiINFoXO",
        "outputId": "61713924-d84c-41e8-cc98-a8658a3b5b5b"
      },
      "outputs": [
        {
          "output_type": "stream",
          "name": "stdout",
          "text": [
            "Title: ホテル、旅館向けシステムの導入事例 - スニットコンピュータ\n",
            "Link: https://www.snitcomputer.com/case/\n",
            "\n",
            "Title: タップのホテルシステム導入事例CASE STUDY\n",
            "Link: https://www.tap-ic.co.jp/case/\n",
            "\n",
            "Title: 導入事例\n",
            "Link: https://incharge7.jp/cases/\n",
            "\n",
            "Title: 施設のタイプ別に見る宿泊予約システムの導入事例\n",
            "Link: https://www.rieyado.com/example/\n",
            "\n",
            "Title: クラウド旅館・ホテル向けシステム「陣屋コネクト」 - J-Net21\n",
            "Link: https://j-net21.smrj.go.jp/special/ittoolcase/18032301.html\n",
            "\n",
            "Title: 宿泊予約システム徹底比較！ホテル旅館での導入事例や費用\n",
            "Link: https://www.shopowner-support.net/attracting_customers/leisure/hotel/accommodation-reservation-system/\n",
            "\n",
            "Title: 「宿泊予約システム ヤドバンス！」導入事例\n",
            "Link: https://www.yadvance.com/case/\n",
            "\n",
            "Title: 導入事例 - ホテルシステム[PMS] - 株式会社ユーコム\n",
            "Link: https://hs.youcom.co.jp/case-study/\n",
            "\n",
            "Title: IT導入で宿泊業界の常識を覆す老舗旅館 - ここからアプリ\n",
            "Link: https://ittools.smrj.go.jp/case/cp577f0000004vhb.html\n",
            "\n",
            "Title: 導入事例 | 宿泊予約システム ホテル・旅館向けASP\n",
            "Link: https://www.yado6.net/case.php\n",
            "\n"
          ]
        }
      ],
      "source": [
        "# 必要なライブラリをインストール\n",
        "# pip install requests\n",
        "# pip install beautifulsoup4\n",
        "\n",
        "import requests\n",
        "from bs4 import BeautifulSoup\n",
        "\n",
        "def search(query):\n",
        "    # Googleの検索結果ページのURLを作成\n",
        "    url = f\"https://www.google.com/search?q={query}&num={10}\"\n",
        "\n",
        "    # User-Agentを指定してリクエストを送信\n",
        "    headers = {'User-Agent': 'Mozilla/5.0 (Windows NT 10.0; Win64; x64) AppleWebKit/537.36 (KHTML, like Gecko) Chrome/91.0.4472.124 Safari/537.36'}\n",
        "    response = requests.get(url, headers=headers)\n",
        "\n",
        "    # ページのHTMLを解析\n",
        "    soup = BeautifulSoup(response.text, 'html.parser')\n",
        "\n",
        "    # 検索結果のタイトルとURLを取得して表示\n",
        "    for result in soup.find_all('div', class_='tF2Cxc'):\n",
        "        title = result.find('h3').text\n",
        "        link = result.find('a')['href']\n",
        "        print(f\"Title: {title}\\nLink: {link}\\n\")\n",
        "\n",
        "# 検索クエリを指定して検索を実行\n",
        "search(\"旅館 システム導入事例\")\n"
      ]
    }
  ]
}